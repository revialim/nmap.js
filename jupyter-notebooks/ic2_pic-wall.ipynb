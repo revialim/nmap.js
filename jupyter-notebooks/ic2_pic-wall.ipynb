{
 "cells": [
  {
   "cell_type": "code",
   "execution_count": 1,
   "metadata": {},
   "outputs": [],
   "source": [
    "import numpy as np\n",
    "import cv2\n",
    "from matplotlib import pyplot as plt\n",
    "from matplotlib import patches as patches\n",
    "from random import randint\n",
    "from PIL import Image\n",
    "from math import sqrt\n",
    "from math import sin\n",
    "from math import cos\n",
    "from math import pi\n",
    "from math import floor\n",
    "from math import ceil\n",
    "import operator #for sorting array of tuples\n",
    "from time import time"
   ]
  },
  {
   "cell_type": "code",
   "execution_count": 15,
   "metadata": {},
   "outputs": [
    {
     "data": {
      "text/plain": [
       "<matplotlib.image.AxesImage at 0x127d24d68>"
      ]
     },
     "execution_count": 15,
     "metadata": {},
     "output_type": "execute_result"
    },
    {
     "data": {
      "image/png": "[encoded data removed]",
      "text/plain": [
       "<Figure size 72x72 with 1 Axes>"
      ]
     },
     "metadata": {},
     "output_type": "display_data"
    }
   ],
   "source": [
    "img = cv2.imread('som-ic2.jpg')\n",
    "#convert to rgb\n",
    "img_rgb = cv2.cvtColor(img, cv2.COLOR_BGR2RGB)\n",
    "plt.figure(figsize=(1,1))\n",
    "plt.imshow(img_rgb)"
   ]
  },
  {
   "cell_type": "code",
   "execution_count": 27,
   "metadata": {},
   "outputs": [],
   "source": [
    "dist = int(500/32)\n",
    "col_arr = []\n",
    "#create 2-dimensional array of colors from som-image\n",
    "for x in range(0, 32):\n",
    "    yArr = []\n",
    "    for y in range(0, 32):\n",
    "        yArr.append(img_rgb[x*dist][y*dist])\n",
    "    col_arr.append(yArr)"
   ]
  },
  {
   "cell_type": "code",
   "execution_count": 25,
   "metadata": {},
   "outputs": [],
   "source": [
    "#generate (random) full binary tree\n",
    "class Node:\n",
    "    #leftChild: None or new Node\n",
    "    #rightChild: None or new Node\n",
    "    #ar – aspect ratio: calculated from leftChild.ar and rightChild.ar\n",
    "    #sliceDirection: \"V\"(0) or \"H\"(1) or None, when it's a leaf\n",
    "    def __init__(self, numOfLeaves, aspectRatio, parent, width, height, position):        \n",
    "        self.leftChild = None\n",
    "        self.rightChild = None\n",
    "        self.sliceDirection = None\n",
    "        self.aspectRatio = aspectRatio\n",
    "        self.image = None\n",
    "        self.parent = parent\n",
    "        self.width = width\n",
    "        self.height = height\n",
    "        self.position = position\n",
    "        \n",
    "        if(numOfLeaves == 1): #this node is a leaf\n",
    "            #select image/rect from rects, that best fits the aspectRatio\n",
    "            self.image = findBestImg(aspectRatio)\n",
    "            \n",
    "        #if(numOfLeaves == 2): #this node is inner node with two leaves\n",
    "         \n",
    "        if(numOfLeaves >= 2): #this node is an inner node with two children\n",
    "            self.sliceDirection = randint(0,1) #random int 0 for \"V\", or 1 for \"H\"\n",
    "            if(self.sliceDirection == 0): #vertical slice\n",
    "                childWidth = height * (aspectRatio/2)\n",
    "                childHeight = height\n",
    "                leftPos = position\n",
    "                rightPos = ((position[0] + width - childWidth), position[1])\n",
    "                self.leftChild = Node(floor(numOfLeaves/2), aspectRatio/2, self, childWidth, childHeight, leftPos)\n",
    "                self.rightChild = Node(ceil(numOfLeaves/2), aspectRatio/2, self, childWidth, childHeight, rightPos)\n",
    "            else: #horizontal slice\n",
    "                childWidth = width\n",
    "                childHeight = width / (aspectRatio*2)\n",
    "                leftPos = position\n",
    "                rightPos = (position[0], (position[1] + height - childHeight))\n",
    "                self.leftChild = Node(floor(numOfLeaves/2), aspectRatio*2, self, childWidth, childHeight, leftPos)\n",
    "                self.rightChild = Node(ceil(numOfLeaves/2), aspectRatio*2, self, childWidth, childHeight, rightPos)"
   ]
  },
  {
   "cell_type": "code",
   "execution_count": 26,
   "metadata": {},
   "outputs": [],
   "source": [
    "def findBestImg(aspectRatio):\n",
    "    unassignedPos = firstUnassignedPos()\n",
    "    diff = abs(aspectRatio - ((rects[unassignedPos][2])/(rects[unassignedPos][3])))\n",
    "    bestImgPos = unassignedPos\n",
    "    \n",
    "    for i in range(unassignedPos + 1, len(rects)):\n",
    "        if(rects[i][5] == False): #rect not assigned yet\n",
    "            ar_rect = (rects[i][2])/(rects[i][3]) #width/height\n",
    "            tmpDiff = abs(aspectRatio - ar_rect)\n",
    "            if(tmpDiff < diff):\n",
    "                diff = tmpDiff\n",
    "                bestImgPos = i\n",
    "    \n",
    "    rects[bestImgPos] = (rects[bestImgPos][0], rects[bestImgPos][1], rects[bestImgPos][2], rects[bestImgPos][3], rects[bestImgPos][4], True)\n",
    "    return rects[bestImgPos] #format: (x, y, width, height, (r,g,b, 0.6), assigned)\n",
    "    "
   ]
  },
  {
   "cell_type": "code",
   "execution_count": 45,
   "metadata": {},
   "outputs": [],
   "source": [
    "def firstUnassignedPos():\n",
    "    for i in range(0, len(rects)):\n",
    "        if(rects[i][5] == False):\n",
    "            return i\n",
    "    print(\"all positions appear to be assigned\")\n",
    "    return -1"
   ]
  },
  {
   "cell_type": "code",
   "execution_count": 53,
   "metadata": {},
   "outputs": [
    {
     "name": "stdout",
     "output_type": "stream",
     "text": [
      "(0, 0, 31, 66, (0.0, 0.47058823529411764, 0.19607843137254902, 0.6), False)\n"
     ]
    }
   ],
   "source": [
    "all_width = 0\n",
    "all_height = 0\n",
    "rects = []\n",
    "subsetSize = 3 #originally subsetSize = 32\n",
    "for x in range(0, subsetSize):\n",
    "    for y in range(0, subsetSize):\n",
    "        rand_width = randint(30,100)\n",
    "        rand_height = randint(30,100)\n",
    "        all_width = all_width + rand_width\n",
    "        all_height = all_height + rand_height\n",
    "        r = float(col_arr[x][y][0]/255)\n",
    "        g = float(col_arr[x][y][1]/255)\n",
    "        b = float(col_arr[x][y][2]/255)\n",
    "        assigned = False\n",
    "        rects.append( (x*50, y*50, rand_width, rand_height, (r,g,b, 0.6), assigned) ) #alpha 0.6        \n",
    "\n",
    "print(rects[0]) "
   ]
  },
  {
   "cell_type": "code",
   "execution_count": 54,
   "metadata": {},
   "outputs": [
    {
     "name": "stdout",
     "output_type": "stream",
     "text": [
      "all_height:  603 , all_width:  553\n"
     ]
    },
    {
     "data": {
      "text/plain": [
       "<matplotlib.image.AxesImage at 0x128419cf8>"
      ]
     },
     "execution_count": 54,
     "metadata": {},
     "output_type": "execute_result"
    },
    {
     "data": {
      "image/png": "[encoded data removed]",
      "text/plain": [
       "<Figure size 432x288 with 1 Axes>"
      ]
     },
     "metadata": {},
     "output_type": "display_data"
    }
   ],
   "source": [
    "#create blank (black) image\n",
    "blank = np.zeros( (int(all_height/2), int(all_width/2), 3), np.uint8 )\n",
    "blank_img = Image.fromarray(blank, 'RGB')\n",
    "#Image.fromarray(rgb_pixels, 'RGB')\n",
    "#plt.figure(1)\n",
    "#plt.imshow(blank_img)"
   ]
  },
  {
   "cell_type": "code",
   "execution_count": 55,
   "metadata": {},
   "outputs": [
    {
     "data": {
      "text/plain": [
       "<matplotlib.image.AxesImage at 0x1124dffd0>"
      ]
     },
     "execution_count": 55,
     "metadata": {},
     "output_type": "execute_result"
    },
    {
     "data": {
      "image/png": "[encoded data removed]",
      "text/plain": [
       "<Figure size 432x288 with 1 Axes>"
      ]
     },
     "metadata": {},
     "output_type": "display_data"
    }
   ],
   "source": [
    "#create figure and axes\n",
    "fig,ax = plt.subplots(1)\n",
    "ax.imshow(blank_img)\n",
    "\n",
    "for i in range(0, len(rects)):\n",
    "    posX = rects[i][0]\n",
    "    posY = rects[i][1]\n",
    "    width = rects[i][2]\n",
    "    height = rects[i][3]\n",
    "    color = rects[i][4]#[0:3]\n",
    "    tmpRect = patches.Rectangle((posX, posY), width, height, linewidth=0, edgecolor=color, facecolor=color)\n",
    "    ax.add_patch(tmpRect)\n",
    "    \n",
    "plt.imshow(blank_img)"
   ]
  },
  {
   "cell_type": "code",
   "execution_count": 56,
   "metadata": {},
   "outputs": [],
   "source": [
    "# set expected ratio ar_exp\n",
    "ar_exp = (2/3)\n",
    "# set number of associated images N\n",
    "numberOfImages = subsetSize*subsetSize\n",
    "# create the tree root node with numberOfImages, which creates the tree recursively\n",
    "root = Node(numberOfImages, ar_exp, None, 1000, 1500, (0,0)) #None because root has no parent"
   ]
  },
  {
   "cell_type": "code",
   "execution_count": 60,
   "metadata": {},
   "outputs": [],
   "source": [
    "#TODO display tree structure\n",
    "blank2 = np.zeros( (1500, 1000, 3), np.uint8 )\n",
    "blank2_img = Image.fromarray(blank2, 'RGB')\n",
    "#plt.imshow(blank2_img)"
   ]
  },
  {
   "cell_type": "code",
   "execution_count": 61,
   "metadata": {},
   "outputs": [
    {
     "data": {
      "image/png": "[encoded data removed]",
      "text/plain": [
       "<Figure size 720x720 with 1 Axes>"
      ]
     },
     "metadata": {},
     "output_type": "display_data"
    }
   ],
   "source": [
    "#create figure and axes\n",
    "fig,ax2 = plt.subplots(figsize=(10,10))\n",
    "ax2.imshow(blank2_img)\n",
    "\n",
    "#build image from tree structure\n",
    "#traverse tree \n",
    "def traverseTree(node):\n",
    "    treeRects = []\n",
    "    if(node.leftChild == None and node.rightChild == None): #leaf\n",
    "        #display\n",
    "        rect = node.image\n",
    "        position = node.position\n",
    "        width = rect[2]\n",
    "        width = node.width\n",
    "        height = rect[3]\n",
    "        height = node.height\n",
    "        #color = rect[4][0:3]\n",
    "        tmpRect = patches.Rectangle(position, width, height, linewidth=0.5, edgecolor=(1,1,1), facecolor=(0,0,0))\n",
    "        ax2.add_patch(tmpRect)\n",
    "        #print(rect)\n",
    "    else:\n",
    "        traverseTree(node.leftChild)\n",
    "        traverseTree(node.rightChild)\n",
    "\n",
    "traverseTree(root)"
   ]
  },
  {
   "cell_type": "code",
   "execution_count": 62,
   "metadata": {},
   "outputs": [
    {
     "data": {
      "image/png": "[encoded data removed]",
      "text/plain": [
       "<Figure size 720x720 with 1 Axes>"
      ]
     },
     "metadata": {},
     "output_type": "display_data"
    }
   ],
   "source": [
    "#create figure and axes\n",
    "fig,ax2 = plt.subplots(figsize=(10,10))\n",
    "ax2.imshow(blank2_img)\n",
    "\n",
    "#build image from tree structure\n",
    "#traverse tree \n",
    "def traverseTree(node):\n",
    "    treeRects = []\n",
    "    if(node.leftChild == None and node.rightChild == None): #leaf\n",
    "        #display\n",
    "        rect = node.image\n",
    "        position = node.position\n",
    "        width = rect[2] \n",
    "        height = rect[3]\n",
    "        if(node.height > node.width): # rect_height is bigger than rect_width\n",
    "            height = (height/width) * node.width\n",
    "            width = node.width\n",
    "        else: # rect_width is same or bigger than rect_height\n",
    "            width = (width/height) * node.height\n",
    "            height = node.height\n",
    "        color = rect[4][0:3] #add or remove transparency to see overlapping\n",
    "        tmpRect = patches.Rectangle(position, width, height, linewidth=0, edgecolor=color, facecolor=color)\n",
    "        ax2.add_patch(tmpRect)\n",
    "        #print(\"width: \", width, \", height: \", height)\n",
    "    else:\n",
    "        traverseTree(node.leftChild)\n",
    "        traverseTree(node.rightChild)\n",
    "\n",
    "traverseTree(root)"
   ]
  },
  {
   "cell_type": "code",
   "execution_count": 36,
   "metadata": {},
   "outputs": [
    {
     "data": {
      "image/png": "[encoded data removed]",
      "text/plain": [
       "<Figure size 432x288 with 1 Axes>"
      ]
     },
     "metadata": {},
     "output_type": "display_data"
    }
   ],
   "source": [
    "#create figure and axes\n",
    "fig,ax2 = plt.subplots(1)\n",
    "ax2.imshow(blank2_img)\n",
    "\n",
    "#build image from tree structure\n",
    "#traverse tree \n",
    "def traverseTree(node):\n",
    "    treeRects = []\n",
    "    if(node.leftChild == None and node.rightChild == None): #leaf\n",
    "        #display\n",
    "        rect = node.image\n",
    "        position = node.position\n",
    "        width = rect[2] \n",
    "        height = rect[3]\n",
    "        color = rect[4][0:3] #add or remove transparency to see overlapping\n",
    "        tmpRect = patches.Rectangle(position, width, height, linewidth=0, edgecolor=color, facecolor=color)\n",
    "        ax2.add_patch(tmpRect)\n",
    "    else:\n",
    "        traverseTree(node.leftChild)\n",
    "        traverseTree(node.rightChild)\n",
    "\n",
    "traverseTree(root)"
   ]
  },
  {
   "cell_type": "code",
   "execution_count": null,
   "metadata": {},
   "outputs": [],
   "source": []
  }
 ],
 "metadata": {
  "kernelspec": {
   "display_name": "Python 3",
   "language": "python",
   "name": "python3"
  },
  "language_info": {
   "codemirror_mode": {
    "name": "ipython",
    "version": 3
   },
   "file_extension": ".py",
   "mimetype": "text/x-python",
   "name": "python",
   "nbconvert_exporter": "python",
   "pygments_lexer": "ipython3",
   "version": "3.6.5"
  }
 },
 "nbformat": 4,
 "nbformat_minor": 2
}
