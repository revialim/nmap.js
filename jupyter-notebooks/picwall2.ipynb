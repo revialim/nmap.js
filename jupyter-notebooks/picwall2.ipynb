{
 "cells": [
  {
   "cell_type": "code",
   "execution_count": 1,
   "metadata": {},
   "outputs": [],
   "source": [
    "import numpy as np\n",
    "import cv2\n",
    "from matplotlib import pyplot as plt\n",
    "from matplotlib import patches as patches\n",
    "from random import randint\n",
    "from PIL import Image\n",
    "from math import sqrt\n",
    "from math import sin\n",
    "from math import cos\n",
    "from math import pi\n",
    "from math import floor\n",
    "from math import ceil\n",
    "import operator #for sorting array of tuples\n",
    "from time import time"
   ]
  },
  {
   "cell_type": "code",
   "execution_count": 10,
   "metadata": {},
   "outputs": [
    {
     "data": {
      "image/png": "[encoded data removed]",
      "text/plain": [
       "<Figure size 72x72 with 1 Axes>"
      ]
     },
     "metadata": {},
     "output_type": "display_data"
    }
   ],
   "source": [
    "img = cv2.imread('som-ic2.jpg')\n",
    "#import SOM-image and convert to rgb\n",
    "img_rgb = cv2.cvtColor(img, cv2.COLOR_BGR2RGB)\n",
    "plt.figure(figsize=(1,1))\n",
    "plt.imshow(img_rgb)\n",
    "\n",
    "dist = int(500/32)#image width is 500\n",
    "col_arr = []\n",
    "#create 2-dimensional array of colors from SOM-image\n",
    "for x in range(0, 32):\n",
    "    yArr = []\n",
    "    for y in range(0, 32):\n",
    "        yArr.append(img_rgb[x*dist][y*dist])\n",
    "    col_arr.append(yArr)"
   ]
  },
  {
   "cell_type": "code",
   "execution_count": 11,
   "metadata": {},
   "outputs": [],
   "source": [
    "#when node is initialized with a number of leaves\n",
    "#it recursively generates a (random) binary tree \n",
    "class Node:\n",
    "    #leftChild: None or new Node\n",
    "    #rightChild: None or new Node\n",
    "    #ar – aspect ratio: calculated from leftChild.ar and rightChild.ar\n",
    "    #sliceDirection: \"V\"(0) or \"H\"(1) or None, when it's a leaf\n",
    "    def __init__(self, numOfLeaves, aspectRatio, parent, width, height, position):        \n",
    "        self.leftChild = None\n",
    "        self.rightChild = None\n",
    "        self.sliceDirection = None\n",
    "        self.aspectRatio = aspectRatio\n",
    "        self.image = None\n",
    "        self.parent = parent\n",
    "        self.width = width\n",
    "        self.height = height\n",
    "        self.position = position\n",
    "        \n",
    "        if(numOfLeaves == 1): #this node is a leaf\n",
    "            #select image/rect from rects, that best fits the aspectRatio\n",
    "            self.image = findBestImg(aspectRatio)\n",
    "            \n",
    "        #if(numOfLeaves == 2): #this node is inner node with two leaves\n",
    "            #image1, image2 = findImagePair(aspectRatio)\n",
    "         \n",
    "        if(numOfLeaves >= 2): #this node is an inner node with two children\n",
    "            self.sliceDirection = randint(0,1) #random int 0 for \"V\", or 1 for \"H\"\n",
    "            if(self.sliceDirection == 0): #vertical slice\n",
    "                childWidth = height * (aspectRatio/2)\n",
    "                childHeight = height\n",
    "                leftPos = position\n",
    "                rightPos = ((position[0] + width - childWidth), position[1])\n",
    "                self.leftChild = Node(floor(numOfLeaves/2), aspectRatio/2, self, childWidth, childHeight, leftPos)\n",
    "                self.rightChild = Node(ceil(numOfLeaves/2), aspectRatio/2, self, childWidth, childHeight, rightPos)\n",
    "            else: #horizontal slice\n",
    "                childWidth = width\n",
    "                childHeight = width / (aspectRatio*2)\n",
    "                leftPos = position\n",
    "                rightPos = (position[0], (position[1] + height - childHeight))\n",
    "                self.leftChild = Node(floor(numOfLeaves/2), aspectRatio*2, self, childWidth, childHeight, leftPos)\n",
    "                self.rightChild = Node(ceil(numOfLeaves/2), aspectRatio*2, self, childWidth, childHeight, rightPos)"
   ]
  },
  {
   "cell_type": "code",
   "execution_count": 12,
   "metadata": {},
   "outputs": [],
   "source": [
    "def findBestImg(aspectRatio, rectangles):\n",
    "    unassignedPos = firstUnassignedPos()\n",
    "    diff = abs(aspectRatio - ((rectangles[unassignedPos][2])/(rectangles[unassignedPos][3])))\n",
    "    bestImgPos = unassignedPos\n",
    "    \n",
    "    for i in range(unassignedPos + 1, len(rectangles)):\n",
    "        if(rectangles[i][5] == False): #rectangle not assigned yet\n",
    "            ar_rect = (rectangles[i][2])/(rectangles[i][3]) #width/height\n",
    "            tmpDiff = abs(aspectRatio - ar_rect)\n",
    "            if(tmpDiff < diff):\n",
    "                diff = tmpDiff\n",
    "                bestImgPos = i\n",
    "    \n",
    "    rectangles[bestImgPos] = (rectangles[bestImgPos][0], rectangles[bestImgPos][1], rectangles[bestImgPos][2], rectangles[bestImgPos][3], rectangles[bestImgPos][4], True)\n",
    "    return rectangles[bestImgPos] #format: (x, y, width, height, (r,g,b, 0.6), assigned)\n",
    "    "
   ]
  },
  {
   "cell_type": "code",
   "execution_count": 21,
   "metadata": {},
   "outputs": [],
   "source": [
    "def findImagePair(aspectRatio, rectangles):\n",
    "    #sort rectangles according to their aspect ratios\n",
    "    front = 0\n",
    "    back = len(rectangles) - 1\n",
    "    i = front\n",
    "    j = back\n",
    "    ar_front = rectangles[front][2] / rectangles[front][3]\n",
    "    ar_back = rectangles[back][2] / rectangles[back][3]\n",
    "    min_diff = abs(ar_front + ar_back - aspectRatio)\n",
    "    while (front <= back):\n",
    "        if (ar_front + ar_back > aspectRatio):\n",
    "            if (abs(ar_front + ar_back - aspectRatio) < min_diff):\n",
    "                min_diff = abs(ar_front + ar_back - aspectRatio)\n",
    "                i = front\n",
    "                j = back\n",
    "            back = back - 1\n",
    "        elif (ar_front + ar_back < aspectRatio):\n",
    "            if (abs(ar_front + ar_back - aspectRatio) < min_diff):\n",
    "                min_diff = abs(ar_front + ar_back - aspectRatio)\n",
    "                i = front\n",
    "                j = back\n",
    "            front = front + 1\n",
    "        else:\n",
    "            i = front\n",
    "            j = back\n",
    "    #TODO erase i and j from rectangles: change flag to assigned True\n",
    "    return rectangles[i], rectangles[j]"
   ]
  },
  {
   "cell_type": "code",
   "execution_count": 13,
   "metadata": {},
   "outputs": [],
   "source": [
    "#returns the first index i from rectangles, where rectangles[i] is not assigned\n",
    "def firstUnassignedPos(rectangles):\n",
    "    for i in range(0, len(rectangles)):\n",
    "        if(rectangles[i][5] == False):\n",
    "            return i\n",
    "    print(\"all positions appear to be assigned\")\n",
    "    return -1"
   ]
  },
  {
   "cell_type": "code",
   "execution_count": 16,
   "metadata": {},
   "outputs": [],
   "source": [
    "#returns an array of tuples, which define rectangles with random sizes\n",
    "def generateRects():\n",
    "    #all_width = 0\n",
    "    #all_height = 0\n",
    "    rects = []\n",
    "    subsetSize = 3 #originally subsetSize = 32\n",
    "    for x in range(0, subsetSize):\n",
    "        for y in range(0, subsetSize):\n",
    "            rand_width = randint(30,100)\n",
    "            rand_height = randint(30,100)\n",
    "            #all_width = all_width + rand_width\n",
    "            #all_height = all_height + rand_height\n",
    "            r = float(col_arr[x][y][0]/255)\n",
    "            g = float(col_arr[x][y][1]/255)\n",
    "            b = float(col_arr[x][y][2]/255)\n",
    "            assigned = False\n",
    "            rects.append( (x*50, y*50, rand_width, rand_height, (r,g,b, 0.6), assigned) ) #alpha 0.6        \n",
    "    \n",
    "    print(rects[0])\n",
    "    return rects"
   ]
  },
  {
   "cell_type": "code",
   "execution_count": 17,
   "metadata": {},
   "outputs": [
    {
     "name": "stdout",
     "output_type": "stream",
     "text": [
      "(0, 0, 35, 90, (0.0, 0.47058823529411764, 0.19607843137254902, 0.6), False)\n"
     ]
    }
   ],
   "source": [
    "rects = generateRects()"
   ]
  },
  {
   "cell_type": "code",
   "execution_count": 19,
   "metadata": {},
   "outputs": [
    {
     "data": {
      "text/plain": [
       "<matplotlib.image.AxesImage at 0x1280da390>"
      ]
     },
     "execution_count": 19,
     "metadata": {},
     "output_type": "execute_result"
    },
    {
     "data": {
      "image/png": "[encoded data removed]",
      "text/plain": [
       "<Figure size 432x288 with 1 Axes>"
      ]
     },
     "metadata": {},
     "output_type": "display_data"
    }
   ],
   "source": [
    "#create blank (black) image\n",
    "blank = np.zeros( (500, 500, 3), np.uint8 )\n",
    "blank_img = Image.fromarray(blank, 'RGB')\n",
    "\n",
    "#create figure and axes\n",
    "fig,ax = plt.subplots(1)\n",
    "ax.imshow(blank_img)\n",
    "\n",
    "for i in range(0, len(rects)):\n",
    "    posX = rects[i][0]\n",
    "    posY = rects[i][1]\n",
    "    width = rects[i][2]\n",
    "    height = rects[i][3]\n",
    "    color = rects[i][4]#[0:3]\n",
    "    tmpRect = patches.Rectangle((posX, posY), width, height, linewidth=0, edgecolor=color, facecolor=color)\n",
    "    ax.add_patch(tmpRect)\n",
    "    \n",
    "plt.imshow(blank_img)"
   ]
  },
  {
   "cell_type": "code",
   "execution_count": null,
   "metadata": {},
   "outputs": [],
   "source": []
  }
 ],
 "metadata": {
  "kernelspec": {
   "display_name": "Python 3",
   "language": "python",
   "name": "python3"
  },
  "language_info": {
   "codemirror_mode": {
    "name": "ipython",
    "version": 3
   },
   "file_extension": ".py",
   "mimetype": "text/x-python",
   "name": "python",
   "nbconvert_exporter": "python",
   "pygments_lexer": "ipython3",
   "version": "3.6.5"
  }
 },
 "nbformat": 4,
 "nbformat_minor": 2
}
